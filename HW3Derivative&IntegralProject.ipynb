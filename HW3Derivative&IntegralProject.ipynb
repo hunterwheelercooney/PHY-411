{
  "nbformat": 4,
  "nbformat_minor": 0,
  "metadata": {
    "colab": {
      "provenance": [],
      "collapsed_sections": []
    },
    "kernelspec": {
      "name": "python3",
      "display_name": "Python 3"
    },
    "language_info": {
      "name": "python"
    }
  },
  "cells": [
    {
      "cell_type": "code",
      "execution_count": null,
      "metadata": {
        "colab": {
          "base_uri": "https://localhost:8080/"
        },
        "id": "yynPbREKxcHB",
        "outputId": "a4d8dcc5-78d7-4c7c-eec5-508e1c500130"
      },
      "outputs": [
        {
          "output_type": "execute_result",
          "data": {
            "text/plain": [
              "1.999999998848546"
            ]
          },
          "metadata": {},
          "execution_count": 8
        }
      ],
      "source": [
        "import numpy as np\n",
        "\n",
        "\n",
        "#4 Trapezoid Rule For Integration\n",
        "a = 0\n",
        "b = np.pi\n",
        "N = 10\n",
        "def f(x):\n",
        "  return np.sin(x)\n",
        "\n",
        "def trapezoid(N):\n",
        "  h = ((b - a) / N)\n",
        "  array = np.array([f(a+i*h) for i in range(1, N-1)])\n",
        "  I = (h/2)*(f(a)+f(b)) + h*np.sum(array)\n",
        "  return(I)\n",
        "  \n",
        "trapezoid(100000)\n"
      ]
    },
    {
      "cell_type": "code",
      "source": [
        "#1 numerical derivative using the forward difference method\n",
        "import numpy as np\n",
        "x = np.pi\n",
        "def deriv_sin(x, h):\n",
        "  \n",
        "  return(np.sin(x + h) - np.sin(x)) / h\n",
        "\n",
        "deriv_sin(np.pi/4, .1)"
      ],
      "metadata": {
        "id": "lgnWw3SrCc1r",
        "colab": {
          "base_uri": "https://localhost:8080/"
        },
        "outputId": "ac88b58a-7c69-4390-9793-3b29b33bcae0"
      },
      "execution_count": 23,
      "outputs": [
        {
          "output_type": "execute_result",
          "data": {
            "text/plain": [
              "0.6706029729039897"
            ]
          },
          "metadata": {},
          "execution_count": 23
        }
      ]
    },
    {
      "cell_type": "code",
      "source": [
        "#2\n",
        "#numerical derivative using the central difference method \n",
        "#(compare it with forward difference method for the same value of h, and also demonstrate that you get better results with decreasing h)\n",
        "import numpy as np\n",
        "x = np.pi\n",
        "def central_deriv_sin(x, h):\n",
        "    return ((np.sin(x+h) - np.sin(x-h))/(2*h))\n",
        "\n",
        "central_deriv_sin(np.pi/4, .1 )\n"
      ],
      "metadata": {
        "id": "7IlKdm_8Ch-g",
        "colab": {
          "base_uri": "https://localhost:8080/"
        },
        "outputId": "f2264f8d-33ad-4483-9840-2174128554ea"
      },
      "execution_count": 24,
      "outputs": [
        {
          "output_type": "execute_result",
          "data": {
            "text/plain": [
              "0.7059288589999413"
            ]
          },
          "metadata": {},
          "execution_count": 24
        }
      ]
    },
    {
      "cell_type": "code",
      "source": [
        "#3\n",
        "#finite difference for second derivative\n",
        "\n",
        "import numpy as np\n",
        "x = np.pi\n",
        "def finite_diff_2nd_Deriv_sin(x, h):\n",
        "  return((np.sin(x+h/2) + np.sin(x-h/2)-2*np.sin(x))/h)\n",
        "\n",
        "finite_diff_2nd_Deriv_sin(np.pi, .1)\n",
        "\n",
        "\n",
        "\n",
        "\n",
        "\n",
        "\n",
        "\n"
      ],
      "metadata": {
        "id": "IlORttZ8CkOE",
        "colab": {
          "base_uri": "https://localhost:8080/"
        },
        "outputId": "25ce3c2c-faa1-43bf-b8c6-34e9a9a46cc8"
      },
      "execution_count": 34,
      "outputs": [
        {
          "output_type": "execute_result",
          "data": {
            "text/plain": [
              "-8.089064995189792e-18"
            ]
          },
          "metadata": {},
          "execution_count": 34
        }
      ]
    }
  ]
}